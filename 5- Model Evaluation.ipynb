{
 "cells": [
  {
   "cell_type": "markdown",
   "id": "c32b7112",
   "metadata": {},
   "source": [
    "### Building Classification Models\n",
    "\n",
    "SVM, KNN and RF models will be built and compared to get the best model using the dataset with best descriptors. The relative importance of each descriptor will be generated using RF_featureimportance."
   ]
  },
  {
   "cell_type": "code",
   "execution_count": 23,
   "id": "8e87192a",
   "metadata": {},
   "outputs": [],
   "source": [
    "import pandas as pd\n",
    "from sklearn.ensemble import RandomForestClassifier\n",
    "from sklearn.svm import SVC\n",
    "from sklearn.neighbors import KNeighborsClassifier\n",
    "from sklearn.preprocessing import StandardScaler\n",
    "from sklearn.model_selection import train_test_split\n",
    "from sklearn.metrics import precision_score, recall_score, accuracy_score, matthews_corrcoef\n",
    "import seaborn as sns"
   ]
  },
  {
   "cell_type": "code",
   "execution_count": 2,
   "id": "89490f9e",
   "metadata": {},
   "outputs": [],
   "source": [
    "df = pd.read_csv(\"data_best.csv\")"
   ]
  },
  {
   "cell_type": "code",
   "execution_count": 3,
   "id": "6b403665",
   "metadata": {},
   "outputs": [
    {
     "data": {
      "text/html": [
       "<div>\n",
       "<style scoped>\n",
       "    .dataframe tbody tr th:only-of-type {\n",
       "        vertical-align: middle;\n",
       "    }\n",
       "\n",
       "    .dataframe tbody tr th {\n",
       "        vertical-align: top;\n",
       "    }\n",
       "\n",
       "    .dataframe thead th {\n",
       "        text-align: right;\n",
       "    }\n",
       "</style>\n",
       "<table border=\"1\" class=\"dataframe\">\n",
       "  <thead>\n",
       "    <tr style=\"text-align: right;\">\n",
       "      <th></th>\n",
       "      <th>MinEStateIndex</th>\n",
       "      <th>MinAbsEStateIndex</th>\n",
       "      <th>qed</th>\n",
       "      <th>FpDensityMorgan3</th>\n",
       "      <th>BCUT2D_MWLOW</th>\n",
       "      <th>BCUT2D_LOGPHI</th>\n",
       "      <th>BCUT2D_LOGPLOW</th>\n",
       "      <th>BCUT2D_MRLOW</th>\n",
       "      <th>BalabanJ</th>\n",
       "      <th>BertzCT</th>\n",
       "      <th>...</th>\n",
       "      <th>fr_imide</th>\n",
       "      <th>fr_methoxy</th>\n",
       "      <th>fr_piperdine</th>\n",
       "      <th>fr_piperzine</th>\n",
       "      <th>fr_priamide</th>\n",
       "      <th>fr_pyridine</th>\n",
       "      <th>fr_sulfonamd</th>\n",
       "      <th>fr_sulfone</th>\n",
       "      <th>fr_thiophene</th>\n",
       "      <th>y</th>\n",
       "    </tr>\n",
       "  </thead>\n",
       "  <tbody>\n",
       "    <tr>\n",
       "      <th>0</th>\n",
       "      <td>-0.929926</td>\n",
       "      <td>0.000172</td>\n",
       "      <td>0.715404</td>\n",
       "      <td>2.482759</td>\n",
       "      <td>10.092103</td>\n",
       "      <td>2.504927</td>\n",
       "      <td>-2.436480</td>\n",
       "      <td>-0.120704</td>\n",
       "      <td>1.482119</td>\n",
       "      <td>1098.620517</td>\n",
       "      <td>...</td>\n",
       "      <td>0.0</td>\n",
       "      <td>1.0</td>\n",
       "      <td>0.0</td>\n",
       "      <td>0.0</td>\n",
       "      <td>0.0</td>\n",
       "      <td>0.0</td>\n",
       "      <td>0.0</td>\n",
       "      <td>0.0</td>\n",
       "      <td>0.0</td>\n",
       "      <td>1.0</td>\n",
       "    </tr>\n",
       "    <tr>\n",
       "      <th>1</th>\n",
       "      <td>-4.397878</td>\n",
       "      <td>0.005121</td>\n",
       "      <td>0.656845</td>\n",
       "      <td>2.370370</td>\n",
       "      <td>9.922879</td>\n",
       "      <td>2.406043</td>\n",
       "      <td>-2.570896</td>\n",
       "      <td>-0.137298</td>\n",
       "      <td>1.576133</td>\n",
       "      <td>759.355620</td>\n",
       "      <td>...</td>\n",
       "      <td>1.0</td>\n",
       "      <td>0.0</td>\n",
       "      <td>0.0</td>\n",
       "      <td>0.0</td>\n",
       "      <td>0.0</td>\n",
       "      <td>0.0</td>\n",
       "      <td>0.0</td>\n",
       "      <td>0.0</td>\n",
       "      <td>0.0</td>\n",
       "      <td>1.0</td>\n",
       "    </tr>\n",
       "    <tr>\n",
       "      <th>2</th>\n",
       "      <td>-4.749727</td>\n",
       "      <td>0.252888</td>\n",
       "      <td>0.715099</td>\n",
       "      <td>2.413793</td>\n",
       "      <td>9.818650</td>\n",
       "      <td>2.292612</td>\n",
       "      <td>-2.316165</td>\n",
       "      <td>-0.274197</td>\n",
       "      <td>1.528090</td>\n",
       "      <td>859.084358</td>\n",
       "      <td>...</td>\n",
       "      <td>0.0</td>\n",
       "      <td>0.0</td>\n",
       "      <td>0.0</td>\n",
       "      <td>0.0</td>\n",
       "      <td>0.0</td>\n",
       "      <td>0.0</td>\n",
       "      <td>0.0</td>\n",
       "      <td>0.0</td>\n",
       "      <td>0.0</td>\n",
       "      <td>1.0</td>\n",
       "    </tr>\n",
       "    <tr>\n",
       "      <th>3</th>\n",
       "      <td>-3.952027</td>\n",
       "      <td>0.100630</td>\n",
       "      <td>0.441669</td>\n",
       "      <td>2.500000</td>\n",
       "      <td>9.933778</td>\n",
       "      <td>2.358864</td>\n",
       "      <td>-2.461242</td>\n",
       "      <td>-0.133255</td>\n",
       "      <td>1.637049</td>\n",
       "      <td>1210.896799</td>\n",
       "      <td>...</td>\n",
       "      <td>0.0</td>\n",
       "      <td>0.0</td>\n",
       "      <td>0.0</td>\n",
       "      <td>0.0</td>\n",
       "      <td>0.0</td>\n",
       "      <td>0.0</td>\n",
       "      <td>1.0</td>\n",
       "      <td>0.0</td>\n",
       "      <td>0.0</td>\n",
       "      <td>1.0</td>\n",
       "    </tr>\n",
       "    <tr>\n",
       "      <th>4</th>\n",
       "      <td>-3.992580</td>\n",
       "      <td>0.000307</td>\n",
       "      <td>0.361576</td>\n",
       "      <td>2.520000</td>\n",
       "      <td>9.934507</td>\n",
       "      <td>2.354589</td>\n",
       "      <td>-2.461013</td>\n",
       "      <td>-0.133255</td>\n",
       "      <td>2.097181</td>\n",
       "      <td>911.867473</td>\n",
       "      <td>...</td>\n",
       "      <td>0.0</td>\n",
       "      <td>0.0</td>\n",
       "      <td>0.0</td>\n",
       "      <td>0.0</td>\n",
       "      <td>0.0</td>\n",
       "      <td>0.0</td>\n",
       "      <td>1.0</td>\n",
       "      <td>0.0</td>\n",
       "      <td>0.0</td>\n",
       "      <td>1.0</td>\n",
       "    </tr>\n",
       "  </tbody>\n",
       "</table>\n",
       "<p>5 rows × 57 columns</p>\n",
       "</div>"
      ],
      "text/plain": [
       "   MinEStateIndex  MinAbsEStateIndex       qed  FpDensityMorgan3  \\\n",
       "0       -0.929926           0.000172  0.715404          2.482759   \n",
       "1       -4.397878           0.005121  0.656845          2.370370   \n",
       "2       -4.749727           0.252888  0.715099          2.413793   \n",
       "3       -3.952027           0.100630  0.441669          2.500000   \n",
       "4       -3.992580           0.000307  0.361576          2.520000   \n",
       "\n",
       "   BCUT2D_MWLOW  BCUT2D_LOGPHI  BCUT2D_LOGPLOW  BCUT2D_MRLOW  BalabanJ  \\\n",
       "0     10.092103       2.504927       -2.436480     -0.120704  1.482119   \n",
       "1      9.922879       2.406043       -2.570896     -0.137298  1.576133   \n",
       "2      9.818650       2.292612       -2.316165     -0.274197  1.528090   \n",
       "3      9.933778       2.358864       -2.461242     -0.133255  1.637049   \n",
       "4      9.934507       2.354589       -2.461013     -0.133255  2.097181   \n",
       "\n",
       "       BertzCT  ...  fr_imide  fr_methoxy  fr_piperdine  fr_piperzine  \\\n",
       "0  1098.620517  ...       0.0         1.0           0.0           0.0   \n",
       "1   759.355620  ...       1.0         0.0           0.0           0.0   \n",
       "2   859.084358  ...       0.0         0.0           0.0           0.0   \n",
       "3  1210.896799  ...       0.0         0.0           0.0           0.0   \n",
       "4   911.867473  ...       0.0         0.0           0.0           0.0   \n",
       "\n",
       "   fr_priamide  fr_pyridine  fr_sulfonamd  fr_sulfone  fr_thiophene    y  \n",
       "0          0.0          0.0           0.0         0.0           0.0  1.0  \n",
       "1          0.0          0.0           0.0         0.0           0.0  1.0  \n",
       "2          0.0          0.0           0.0         0.0           0.0  1.0  \n",
       "3          0.0          0.0           1.0         0.0           0.0  1.0  \n",
       "4          0.0          0.0           1.0         0.0           0.0  1.0  \n",
       "\n",
       "[5 rows x 57 columns]"
      ]
     },
     "execution_count": 3,
     "metadata": {},
     "output_type": "execute_result"
    }
   ],
   "source": [
    "df.head()"
   ]
  },
  {
   "cell_type": "markdown",
   "id": "49f19e24",
   "metadata": {},
   "source": [
    "### Support Vector Machine Model"
   ]
  },
  {
   "cell_type": "code",
   "execution_count": 4,
   "id": "2eb0e71c",
   "metadata": {},
   "outputs": [],
   "source": [
    "def build_model(ds):\n",
    "    X = ds.drop(\"y\",axis=1)\n",
    "    y = ds[\"y\"]\n",
    "    \n",
    "    X_train, X_test, y_train, y_test = train_test_split(X, y, test_size=0.2, random_state=42,stratify=y)\n",
    "    \n",
    "    s = StandardScaler()\n",
    "    X_train = pd.DataFrame(s.fit_transform(X_train),columns=X_train.columns)\n",
    "    X_test = pd.DataFrame(s.transform(X_test),columns=X_test.columns)\n",
    "    \n",
    "    svm = SVC(kernel=\"linear\",random_state=42)\n",
    "    svm.fit(X_train,y_train)\n",
    "    y_pred = svm.predict(X_test)\n",
    "    acc = accuracy_score(y_test,y_pred)\n",
    "    precision = precision_score(y_test,y_pred)\n",
    "    recall = recall_score(y_test,y_pred)\n",
    "    mcc = matthews_corrcoef(y_test,y_pred)\n",
    "    return acc, precision, recall, mcc\n"
   ]
  },
  {
   "cell_type": "code",
   "execution_count": 5,
   "id": "bcb97c1e",
   "metadata": {},
   "outputs": [
    {
     "data": {
      "text/plain": [
       "(0.9052631578947369,\n",
       " 0.9384615384615385,\n",
       " 0.9242424242424242,\n",
       " 0.7790193182780569)"
      ]
     },
     "execution_count": 5,
     "metadata": {},
     "output_type": "execute_result"
    }
   ],
   "source": [
    "build_model(df)"
   ]
  },
  {
   "cell_type": "markdown",
   "id": "59e23eae",
   "metadata": {},
   "source": [
    "### KNearest Neighbour"
   ]
  },
  {
   "cell_type": "code",
   "execution_count": 6,
   "id": "951bb035",
   "metadata": {},
   "outputs": [],
   "source": [
    "def build_KNN(ds):\n",
    "    X = ds.drop(\"y\",axis=1)\n",
    "    y = ds[\"y\"]\n",
    "    \n",
    "    X_train, X_test, y_train, y_test = train_test_split(X, y, test_size=0.2, random_state=42,stratify=y)\n",
    "    \n",
    "    s = StandardScaler()\n",
    "    X_train = pd.DataFrame(s.fit_transform(X_train),columns=X_train.columns)\n",
    "    X_test = pd.DataFrame(s.transform(X_test),columns=X_test.columns)\n",
    "    \n",
    "    knn = KNeighborsClassifier()\n",
    "    knn.fit(X_train,y_train)\n",
    "    y_pred = knn.predict(X_test)\n",
    "    acc = accuracy_score(y_test,y_pred)\n",
    "    precision = precision_score(y_test,y_pred)\n",
    "    recall = recall_score(y_test,y_pred)\n",
    "    mcc = matthews_corrcoef(y_test,y_pred)\n",
    "    return acc, precision, recall, mcc"
   ]
  },
  {
   "cell_type": "code",
   "execution_count": 7,
   "id": "6f2adc2c",
   "metadata": {},
   "outputs": [
    {
     "data": {
      "text/plain": [
       "(0.9157894736842105,\n",
       " 0.9264705882352942,\n",
       " 0.9545454545454546,\n",
       " 0.7985727659491166)"
      ]
     },
     "execution_count": 7,
     "metadata": {},
     "output_type": "execute_result"
    }
   ],
   "source": [
    "build_KNN(df)"
   ]
  },
  {
   "cell_type": "markdown",
   "id": "7048cd5d",
   "metadata": {},
   "source": [
    "### RandomForest "
   ]
  },
  {
   "cell_type": "code",
   "execution_count": 13,
   "id": "6a358e97",
   "metadata": {},
   "outputs": [],
   "source": [
    "def build_RF(ds):\n",
    "    X = ds.drop(\"y\",axis=1)\n",
    "    y = ds[\"y\"]\n",
    "    \n",
    "    X_train, X_test, y_train, y_test = train_test_split(X, y, test_size=0.2, random_state=42,stratify=y)\n",
    "    \n",
    "    s = StandardScaler()\n",
    "    X_train = pd.DataFrame(s.fit_transform(X_train),columns=X_train.columns)\n",
    "    X_test = pd.DataFrame(s.transform(X_test),columns=X_test.columns)\n",
    "    \n",
    "    rf = RandomForestClassifier(random_state=42)\n",
    "    rf.fit(X_train,y_train)\n",
    "    feat_imp = rf.feature_importances_\n",
    "    y_pred = rf.predict(X_test)\n",
    "    acc = accuracy_score(y_test,y_pred)\n",
    "    precision = precision_score(y_test,y_pred)\n",
    "    recall = recall_score(y_test,y_pred)\n",
    "    mcc = matthews_corrcoef(y_test,y_pred)\n",
    "    return acc, precision, recall, mcc,feat_imp"
   ]
  },
  {
   "cell_type": "code",
   "execution_count": 15,
   "id": "fae86499",
   "metadata": {},
   "outputs": [],
   "source": [
    "rf_results =build_RF(df)"
   ]
  },
  {
   "cell_type": "code",
   "execution_count": 16,
   "id": "4c01bb3c",
   "metadata": {},
   "outputs": [
    {
     "data": {
      "text/plain": [
       "(0.9263157894736842,\n",
       " 0.9402985074626866,\n",
       " 0.9545454545454546,\n",
       " 0.8248435719625181,\n",
       " array([3.60989308e-02, 2.11623415e-02, 1.08090829e-02, 3.48674936e-02,\n",
       "        6.15752293e-02, 2.04386225e-02, 9.95256735e-02, 8.69353688e-02,\n",
       "        1.90380295e-02, 5.34501563e-02, 2.22060656e-02, 3.51726356e-03,\n",
       "        1.43014251e-02, 4.05068980e-03, 6.24316268e-03, 1.18990651e-02,\n",
       "        1.08243934e-02, 4.25473901e-03, 1.90795966e-02, 7.30741140e-03,\n",
       "        9.61857929e-03, 1.87923512e-03, 2.77617695e-03, 4.75724711e-02,\n",
       "        4.36557773e-02, 6.35969472e-03, 6.70086686e-03, 1.03550133e-02,\n",
       "        7.20074155e-02, 8.99630903e-03, 1.49847216e-02, 1.32136635e-02,\n",
       "        2.73041716e-02, 8.61265500e-03, 3.54812988e-02, 1.06362320e-03,\n",
       "        4.23453679e-03, 1.41326204e-03, 5.36869489e-03, 2.41084817e-03,\n",
       "        2.80515347e-04, 6.65858857e-04, 4.26128308e-02, 3.34689677e-03,\n",
       "        2.61545322e-03, 4.27740337e-03, 3.57418399e-04, 1.41910327e-03,\n",
       "        1.42728511e-03, 2.19557409e-05, 1.18593544e-04, 1.38282305e-04,\n",
       "        6.70195579e-02, 1.61590502e-03, 1.90472810e-03, 5.84456600e-04]))"
      ]
     },
     "execution_count": 16,
     "metadata": {},
     "output_type": "execute_result"
    }
   ],
   "source": [
    "rf_results"
   ]
  },
  {
   "cell_type": "markdown",
   "id": "bc78add9",
   "metadata": {},
   "source": [
    "**RandomForest Classifier shows better performance than SVM and KNN**"
   ]
  },
  {
   "cell_type": "code",
   "execution_count": 17,
   "id": "48f45d54",
   "metadata": {},
   "outputs": [],
   "source": [
    "feat_imp = rf_results[4]"
   ]
  },
  {
   "cell_type": "code",
   "execution_count": 28,
   "id": "d06b0868",
   "metadata": {},
   "outputs": [
    {
     "data": {
      "text/plain": [
       "MinEStateIndex              0.036099\n",
       "MinAbsEStateIndex           0.021162\n",
       "qed                         0.010809\n",
       "FpDensityMorgan3            0.034867\n",
       "BCUT2D_MWLOW                0.061575\n",
       "BCUT2D_LOGPHI               0.020439\n",
       "BCUT2D_LOGPLOW              0.099526\n",
       "BCUT2D_MRLOW                0.086935\n",
       "BalabanJ                    0.019038\n",
       "BertzCT                     0.053450\n",
       "HallKierAlpha               0.022206\n",
       "PEOE_VSA11                  0.003517\n",
       "PEOE_VSA12                  0.014301\n",
       "PEOE_VSA14                  0.004051\n",
       "PEOE_VSA3                   0.006243\n",
       "PEOE_VSA6                   0.011899\n",
       "PEOE_VSA8                   0.010824\n",
       "SMR_VSA4                    0.004255\n",
       "SMR_VSA5                    0.019080\n",
       "SMR_VSA6                    0.007307\n",
       "SlogP_VSA1                  0.009619\n",
       "SlogP_VSA11                 0.001879\n",
       "SlogP_VSA4                  0.002776\n",
       "EState_VSA1                 0.047572\n",
       "EState_VSA10                0.043656\n",
       "EState_VSA3                 0.006360\n",
       "EState_VSA6                 0.006701\n",
       "EState_VSA8                 0.010355\n",
       "VSA_EState3                 0.072007\n",
       "VSA_EState7                 0.008996\n",
       "VSA_EState9                 0.014985\n",
       "FractionCSP3                0.013214\n",
       "NumAromaticCarbocycles      0.027304\n",
       "NumHAcceptors               0.008613\n",
       "NumRotatableBonds           0.035481\n",
       "NumSaturatedCarbocycles     0.001064\n",
       "NumSaturatedHeterocycles    0.004235\n",
       "fr_Al_OH                    0.001413\n",
       "fr_NH1                      0.005369\n",
       "fr_N_O                      0.002411\n",
       "fr_Ndealkylation2           0.000281\n",
       "fr_SH                       0.000666\n",
       "fr_benzene                  0.042613\n",
       "fr_bicyclic                 0.003347\n",
       "fr_furan                    0.002615\n",
       "fr_halogen                  0.004277\n",
       "fr_hdrzine                  0.000357\n",
       "fr_imide                    0.001419\n",
       "fr_methoxy                  0.001427\n",
       "fr_piperdine                0.000022\n",
       "fr_piperzine                0.000119\n",
       "fr_priamide                 0.000138\n",
       "fr_pyridine                 0.067020\n",
       "fr_sulfonamd                0.001616\n",
       "fr_sulfone                  0.001905\n",
       "fr_thiophene                0.000584\n",
       "dtype: float64"
      ]
     },
     "execution_count": 28,
     "metadata": {},
     "output_type": "execute_result"
    }
   ],
   "source": [
    "feat_imp = pd.Series(feat_imp,index=df.drop(\"y\",axis=1).columns)\n",
    "feat_imp"
   ]
  },
  {
   "cell_type": "code",
   "execution_count": 29,
   "id": "95266823",
   "metadata": {},
   "outputs": [],
   "source": [
    "feat_imp = feat_imp.sort_values(ascending=False)"
   ]
  },
  {
   "cell_type": "code",
   "execution_count": 40,
   "id": "92cab6d3",
   "metadata": {},
   "outputs": [
    {
     "data": {
      "image/png": "[encoded data removed]",
      "text/plain": [
       "<Figure size 720x1080 with 1 Axes>"
      ]
     },
     "metadata": {
      "needs_background": "light"
     },
     "output_type": "display_data"
    }
   ],
   "source": [
    "import matplotlib.pyplot as plt\n",
    "\n",
    "\n",
    "plt.figure(figsize=(10,15))\n",
    "sns.barplot(x=feat_imp.values,y=feat_imp.index)\n",
    "\n",
    "plt.show()"
   ]
  },
  {
   "cell_type": "code",
   "execution_count": null,
   "id": "32fc7ebf",
   "metadata": {},
   "outputs": [],
   "source": []
  }
 ],
 "metadata": {
  "kernelspec": {
   "display_name": "Python 3 (ipykernel)",
   "language": "python",
   "name": "python3"
  },
  "language_info": {
   "codemirror_mode": {
    "name": "ipython",
    "version": 3
   },
   "file_extension": ".py",
   "mimetype": "text/x-python",
   "name": "python",
   "nbconvert_exporter": "python",
   "pygments_lexer": "ipython3",
   "version": "3.9.6"
  }
 },
 "nbformat": 4,
 "nbformat_minor": 5
}
